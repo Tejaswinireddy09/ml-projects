{
 "cells": [
  {
   "cell_type": "code",
   "execution_count": 1,
   "metadata": {},
   "outputs": [
    {
     "data": {
      "text/html": [
       "<div>\n",
       "<style scoped>\n",
       "    .dataframe tbody tr th:only-of-type {\n",
       "        vertical-align: middle;\n",
       "    }\n",
       "\n",
       "    .dataframe tbody tr th {\n",
       "        vertical-align: top;\n",
       "    }\n",
       "\n",
       "    .dataframe thead th {\n",
       "        text-align: right;\n",
       "    }\n",
       "</style>\n",
       "<table border=\"1\" class=\"dataframe\">\n",
       "  <thead>\n",
       "    <tr style=\"text-align: right;\">\n",
       "      <th></th>\n",
       "      <th>V1</th>\n",
       "      <th>V2</th>\n",
       "      <th>V3</th>\n",
       "      <th>V4</th>\n",
       "      <th>V5</th>\n",
       "      <th>V6</th>\n",
       "      <th>V7</th>\n",
       "      <th>V8</th>\n",
       "      <th>V9</th>\n",
       "      <th>V10</th>\n",
       "      <th>...</th>\n",
       "      <th>V21</th>\n",
       "      <th>V22</th>\n",
       "      <th>V23</th>\n",
       "      <th>V24</th>\n",
       "      <th>V25</th>\n",
       "      <th>V26</th>\n",
       "      <th>V27</th>\n",
       "      <th>V28</th>\n",
       "      <th>V29</th>\n",
       "      <th>Target</th>\n",
       "    </tr>\n",
       "  </thead>\n",
       "  <tbody>\n",
       "    <tr>\n",
       "      <th>0</th>\n",
       "      <td>0.114697</td>\n",
       "      <td>0.796303</td>\n",
       "      <td>-0.149553</td>\n",
       "      <td>-0.823011</td>\n",
       "      <td>0.878763</td>\n",
       "      <td>-0.553152</td>\n",
       "      <td>0.939259</td>\n",
       "      <td>-0.108502</td>\n",
       "      <td>0.111137</td>\n",
       "      <td>-0.390521</td>\n",
       "      <td>...</td>\n",
       "      <td>-0.335776</td>\n",
       "      <td>-0.807853</td>\n",
       "      <td>-0.055940</td>\n",
       "      <td>-1.025281</td>\n",
       "      <td>-0.369557</td>\n",
       "      <td>0.204653</td>\n",
       "      <td>0.242724</td>\n",
       "      <td>0.085713</td>\n",
       "      <td>0.89</td>\n",
       "      <td>0</td>\n",
       "    </tr>\n",
       "    <tr>\n",
       "      <th>1</th>\n",
       "      <td>-0.039318</td>\n",
       "      <td>0.495784</td>\n",
       "      <td>-0.810884</td>\n",
       "      <td>0.546693</td>\n",
       "      <td>1.986257</td>\n",
       "      <td>4.386342</td>\n",
       "      <td>-1.344891</td>\n",
       "      <td>-1.743736</td>\n",
       "      <td>-0.563103</td>\n",
       "      <td>-0.616315</td>\n",
       "      <td>...</td>\n",
       "      <td>-1.377003</td>\n",
       "      <td>-0.072200</td>\n",
       "      <td>-0.197573</td>\n",
       "      <td>1.014807</td>\n",
       "      <td>1.011293</td>\n",
       "      <td>-0.167684</td>\n",
       "      <td>0.113136</td>\n",
       "      <td>0.256836</td>\n",
       "      <td>85.00</td>\n",
       "      <td>0</td>\n",
       "    </tr>\n",
       "    <tr>\n",
       "      <th>2</th>\n",
       "      <td>2.275706</td>\n",
       "      <td>-1.531508</td>\n",
       "      <td>-1.021969</td>\n",
       "      <td>-1.602152</td>\n",
       "      <td>-1.220329</td>\n",
       "      <td>-0.462376</td>\n",
       "      <td>-1.196485</td>\n",
       "      <td>-0.147058</td>\n",
       "      <td>-0.950224</td>\n",
       "      <td>1.560463</td>\n",
       "      <td>...</td>\n",
       "      <td>-0.193271</td>\n",
       "      <td>-0.103533</td>\n",
       "      <td>0.150945</td>\n",
       "      <td>-0.811083</td>\n",
       "      <td>-0.197913</td>\n",
       "      <td>-0.128446</td>\n",
       "      <td>0.014197</td>\n",
       "      <td>-0.051289</td>\n",
       "      <td>42.70</td>\n",
       "      <td>0</td>\n",
       "    </tr>\n",
       "    <tr>\n",
       "      <th>3</th>\n",
       "      <td>1.940137</td>\n",
       "      <td>-0.357671</td>\n",
       "      <td>-1.210551</td>\n",
       "      <td>0.382523</td>\n",
       "      <td>0.050823</td>\n",
       "      <td>-0.171322</td>\n",
       "      <td>-0.109124</td>\n",
       "      <td>-0.002115</td>\n",
       "      <td>0.869258</td>\n",
       "      <td>-0.001965</td>\n",
       "      <td>...</td>\n",
       "      <td>0.157994</td>\n",
       "      <td>0.650355</td>\n",
       "      <td>0.034206</td>\n",
       "      <td>0.739535</td>\n",
       "      <td>0.223605</td>\n",
       "      <td>-0.195509</td>\n",
       "      <td>-0.012791</td>\n",
       "      <td>-0.056841</td>\n",
       "      <td>29.99</td>\n",
       "      <td>0</td>\n",
       "    </tr>\n",
       "    <tr>\n",
       "      <th>4</th>\n",
       "      <td>1.081395</td>\n",
       "      <td>-0.502615</td>\n",
       "      <td>1.075887</td>\n",
       "      <td>-0.543359</td>\n",
       "      <td>-1.472946</td>\n",
       "      <td>-1.065484</td>\n",
       "      <td>-0.443231</td>\n",
       "      <td>-0.143374</td>\n",
       "      <td>1.659826</td>\n",
       "      <td>-1.131238</td>\n",
       "      <td>...</td>\n",
       "      <td>0.224157</td>\n",
       "      <td>0.821209</td>\n",
       "      <td>-0.137223</td>\n",
       "      <td>0.986259</td>\n",
       "      <td>0.563228</td>\n",
       "      <td>-0.574206</td>\n",
       "      <td>0.089673</td>\n",
       "      <td>0.052036</td>\n",
       "      <td>68.00</td>\n",
       "      <td>0</td>\n",
       "    </tr>\n",
       "    <tr>\n",
       "      <th>...</th>\n",
       "      <td>...</td>\n",
       "      <td>...</td>\n",
       "      <td>...</td>\n",
       "      <td>...</td>\n",
       "      <td>...</td>\n",
       "      <td>...</td>\n",
       "      <td>...</td>\n",
       "      <td>...</td>\n",
       "      <td>...</td>\n",
       "      <td>...</td>\n",
       "      <td>...</td>\n",
       "      <td>...</td>\n",
       "      <td>...</td>\n",
       "      <td>...</td>\n",
       "      <td>...</td>\n",
       "      <td>...</td>\n",
       "      <td>...</td>\n",
       "      <td>...</td>\n",
       "      <td>...</td>\n",
       "      <td>...</td>\n",
       "      <td>...</td>\n",
       "    </tr>\n",
       "    <tr>\n",
       "      <th>56957</th>\n",
       "      <td>2.030797</td>\n",
       "      <td>-0.825073</td>\n",
       "      <td>-0.729555</td>\n",
       "      <td>-0.519187</td>\n",
       "      <td>-0.639893</td>\n",
       "      <td>-0.169482</td>\n",
       "      <td>-0.619049</td>\n",
       "      <td>-0.017902</td>\n",
       "      <td>-0.578643</td>\n",
       "      <td>0.915645</td>\n",
       "      <td>...</td>\n",
       "      <td>-0.790167</td>\n",
       "      <td>-1.825357</td>\n",
       "      <td>0.600083</td>\n",
       "      <td>0.702623</td>\n",
       "      <td>-0.782688</td>\n",
       "      <td>-0.007105</td>\n",
       "      <td>-0.041057</td>\n",
       "      <td>-0.038601</td>\n",
       "      <td>42.42</td>\n",
       "      <td>0</td>\n",
       "    </tr>\n",
       "    <tr>\n",
       "      <th>56958</th>\n",
       "      <td>-0.263947</td>\n",
       "      <td>1.119700</td>\n",
       "      <td>-0.639394</td>\n",
       "      <td>-0.880567</td>\n",
       "      <td>1.194120</td>\n",
       "      <td>-0.310693</td>\n",
       "      <td>0.962087</td>\n",
       "      <td>-0.088880</td>\n",
       "      <td>0.386664</td>\n",
       "      <td>0.195362</td>\n",
       "      <td>...</td>\n",
       "      <td>-0.448081</td>\n",
       "      <td>-0.893010</td>\n",
       "      <td>0.004678</td>\n",
       "      <td>0.062555</td>\n",
       "      <td>-0.347536</td>\n",
       "      <td>0.106510</td>\n",
       "      <td>0.274117</td>\n",
       "      <td>-0.036263</td>\n",
       "      <td>7.99</td>\n",
       "      <td>0</td>\n",
       "    </tr>\n",
       "    <tr>\n",
       "      <th>56959</th>\n",
       "      <td>2.206867</td>\n",
       "      <td>-0.748559</td>\n",
       "      <td>-1.443015</td>\n",
       "      <td>-1.101542</td>\n",
       "      <td>-0.332197</td>\n",
       "      <td>-0.646931</td>\n",
       "      <td>-0.536272</td>\n",
       "      <td>-0.129437</td>\n",
       "      <td>-0.712381</td>\n",
       "      <td>1.057616</td>\n",
       "      <td>...</td>\n",
       "      <td>0.471336</td>\n",
       "      <td>1.314052</td>\n",
       "      <td>0.038930</td>\n",
       "      <td>0.747315</td>\n",
       "      <td>0.158017</td>\n",
       "      <td>0.021897</td>\n",
       "      <td>-0.046200</td>\n",
       "      <td>-0.072586</td>\n",
       "      <td>1.00</td>\n",
       "      <td>0</td>\n",
       "    </tr>\n",
       "    <tr>\n",
       "      <th>56960</th>\n",
       "      <td>1.430579</td>\n",
       "      <td>-0.842354</td>\n",
       "      <td>0.415998</td>\n",
       "      <td>-1.328439</td>\n",
       "      <td>-1.284654</td>\n",
       "      <td>-0.888110</td>\n",
       "      <td>-0.653237</td>\n",
       "      <td>-0.238164</td>\n",
       "      <td>-2.220845</td>\n",
       "      <td>1.350845</td>\n",
       "      <td>...</td>\n",
       "      <td>-0.577415</td>\n",
       "      <td>-1.323989</td>\n",
       "      <td>0.336843</td>\n",
       "      <td>0.329714</td>\n",
       "      <td>-0.007425</td>\n",
       "      <td>-0.636401</td>\n",
       "      <td>0.037095</td>\n",
       "      <td>0.029180</td>\n",
       "      <td>30.00</td>\n",
       "      <td>0</td>\n",
       "    </tr>\n",
       "    <tr>\n",
       "      <th>56961</th>\n",
       "      <td>-7.792712</td>\n",
       "      <td>5.599937</td>\n",
       "      <td>0.258943</td>\n",
       "      <td>0.061360</td>\n",
       "      <td>-2.586555</td>\n",
       "      <td>4.770837</td>\n",
       "      <td>-8.221863</td>\n",
       "      <td>-20.298380</td>\n",
       "      <td>2.028566</td>\n",
       "      <td>-0.030694</td>\n",
       "      <td>...</td>\n",
       "      <td>12.641459</td>\n",
       "      <td>-4.187308</td>\n",
       "      <td>2.655058</td>\n",
       "      <td>0.350225</td>\n",
       "      <td>0.462620</td>\n",
       "      <td>0.455248</td>\n",
       "      <td>0.166157</td>\n",
       "      <td>0.099680</td>\n",
       "      <td>8.39</td>\n",
       "      <td>0</td>\n",
       "    </tr>\n",
       "  </tbody>\n",
       "</table>\n",
       "<p>56962 rows × 30 columns</p>\n",
       "</div>"
      ],
      "text/plain": [
       "             V1        V2        V3        V4        V5        V6        V7  \\\n",
       "0      0.114697  0.796303 -0.149553 -0.823011  0.878763 -0.553152  0.939259   \n",
       "1     -0.039318  0.495784 -0.810884  0.546693  1.986257  4.386342 -1.344891   \n",
       "2      2.275706 -1.531508 -1.021969 -1.602152 -1.220329 -0.462376 -1.196485   \n",
       "3      1.940137 -0.357671 -1.210551  0.382523  0.050823 -0.171322 -0.109124   \n",
       "4      1.081395 -0.502615  1.075887 -0.543359 -1.472946 -1.065484 -0.443231   \n",
       "...         ...       ...       ...       ...       ...       ...       ...   \n",
       "56957  2.030797 -0.825073 -0.729555 -0.519187 -0.639893 -0.169482 -0.619049   \n",
       "56958 -0.263947  1.119700 -0.639394 -0.880567  1.194120 -0.310693  0.962087   \n",
       "56959  2.206867 -0.748559 -1.443015 -1.101542 -0.332197 -0.646931 -0.536272   \n",
       "56960  1.430579 -0.842354  0.415998 -1.328439 -1.284654 -0.888110 -0.653237   \n",
       "56961 -7.792712  5.599937  0.258943  0.061360 -2.586555  4.770837 -8.221863   \n",
       "\n",
       "              V8        V9       V10  ...        V21       V22       V23  \\\n",
       "0      -0.108502  0.111137 -0.390521  ...  -0.335776 -0.807853 -0.055940   \n",
       "1      -1.743736 -0.563103 -0.616315  ...  -1.377003 -0.072200 -0.197573   \n",
       "2      -0.147058 -0.950224  1.560463  ...  -0.193271 -0.103533  0.150945   \n",
       "3      -0.002115  0.869258 -0.001965  ...   0.157994  0.650355  0.034206   \n",
       "4      -0.143374  1.659826 -1.131238  ...   0.224157  0.821209 -0.137223   \n",
       "...          ...       ...       ...  ...        ...       ...       ...   \n",
       "56957  -0.017902 -0.578643  0.915645  ...  -0.790167 -1.825357  0.600083   \n",
       "56958  -0.088880  0.386664  0.195362  ...  -0.448081 -0.893010  0.004678   \n",
       "56959  -0.129437 -0.712381  1.057616  ...   0.471336  1.314052  0.038930   \n",
       "56960  -0.238164 -2.220845  1.350845  ...  -0.577415 -1.323989  0.336843   \n",
       "56961 -20.298380  2.028566 -0.030694  ...  12.641459 -4.187308  2.655058   \n",
       "\n",
       "            V24       V25       V26       V27       V28    V29  Target  \n",
       "0     -1.025281 -0.369557  0.204653  0.242724  0.085713   0.89       0  \n",
       "1      1.014807  1.011293 -0.167684  0.113136  0.256836  85.00       0  \n",
       "2     -0.811083 -0.197913 -0.128446  0.014197 -0.051289  42.70       0  \n",
       "3      0.739535  0.223605 -0.195509 -0.012791 -0.056841  29.99       0  \n",
       "4      0.986259  0.563228 -0.574206  0.089673  0.052036  68.00       0  \n",
       "...         ...       ...       ...       ...       ...    ...     ...  \n",
       "56957  0.702623 -0.782688 -0.007105 -0.041057 -0.038601  42.42       0  \n",
       "56958  0.062555 -0.347536  0.106510  0.274117 -0.036263   7.99       0  \n",
       "56959  0.747315  0.158017  0.021897 -0.046200 -0.072586   1.00       0  \n",
       "56960  0.329714 -0.007425 -0.636401  0.037095  0.029180  30.00       0  \n",
       "56961  0.350225  0.462620  0.455248  0.166157  0.099680   8.39       0  \n",
       "\n",
       "[56962 rows x 30 columns]"
      ]
     },
     "execution_count": 1,
     "metadata": {},
     "output_type": "execute_result"
    }
   ],
   "source": [
    "import pandas as pd\n",
    "df=pd.read_csv(\"creditcard.csv\")\n",
    "df"
   ]
  },
  {
   "cell_type": "markdown",
   "metadata": {},
   "source": []
  },
  {
   "cell_type": "code",
   "execution_count": 2,
   "metadata": {},
   "outputs": [
    {
     "data": {
      "text/plain": [
       "Target\n",
       "0    56864\n",
       "1       98\n",
       "dtype: int64"
      ]
     },
     "execution_count": 2,
     "metadata": {},
     "output_type": "execute_result"
    }
   ],
   "source": [
    "df.value_counts(\"Target\")"
   ]
  },
  {
   "cell_type": "code",
   "execution_count": 3,
   "metadata": {},
   "outputs": [
    {
     "data": {
      "text/plain": [
       "V1        0\n",
       "V2        0\n",
       "V3        0\n",
       "V4        0\n",
       "V5        0\n",
       "V6        0\n",
       "V7        0\n",
       "V8        0\n",
       "V9        0\n",
       "V10       0\n",
       "V11       0\n",
       "V12       0\n",
       "V13       0\n",
       "V14       0\n",
       "V15       0\n",
       "V16       0\n",
       "V17       0\n",
       "V18       0\n",
       "V19       0\n",
       "V20       0\n",
       "V21       0\n",
       "V22       0\n",
       "V23       0\n",
       "V24       0\n",
       "V25       0\n",
       "V26       0\n",
       "V27       0\n",
       "V28       0\n",
       "V29       0\n",
       "Target    0\n",
       "dtype: int64"
      ]
     },
     "execution_count": 3,
     "metadata": {},
     "output_type": "execute_result"
    }
   ],
   "source": [
    "df.isnull().sum()"
   ]
  },
  {
   "cell_type": "code",
   "execution_count": 4,
   "metadata": {},
   "outputs": [
    {
     "name": "stdout",
     "output_type": "stream",
     "text": [
      "<class 'pandas.core.frame.DataFrame'>\n",
      "RangeIndex: 56962 entries, 0 to 56961\n",
      "Data columns (total 30 columns):\n",
      " #   Column  Non-Null Count  Dtype  \n",
      "---  ------  --------------  -----  \n",
      " 0   V1      56962 non-null  float64\n",
      " 1   V2      56962 non-null  float64\n",
      " 2   V3      56962 non-null  float64\n",
      " 3   V4      56962 non-null  float64\n",
      " 4   V5      56962 non-null  float64\n",
      " 5   V6      56962 non-null  float64\n",
      " 6   V7      56962 non-null  float64\n",
      " 7   V8      56962 non-null  float64\n",
      " 8   V9      56962 non-null  float64\n",
      " 9   V10     56962 non-null  float64\n",
      " 10  V11     56962 non-null  float64\n",
      " 11  V12     56962 non-null  float64\n",
      " 12  V13     56962 non-null  float64\n",
      " 13  V14     56962 non-null  float64\n",
      " 14  V15     56962 non-null  float64\n",
      " 15  V16     56962 non-null  float64\n",
      " 16  V17     56962 non-null  float64\n",
      " 17  V18     56962 non-null  float64\n",
      " 18  V19     56962 non-null  float64\n",
      " 19  V20     56962 non-null  float64\n",
      " 20  V21     56962 non-null  float64\n",
      " 21  V22     56962 non-null  float64\n",
      " 22  V23     56962 non-null  float64\n",
      " 23  V24     56962 non-null  float64\n",
      " 24  V25     56962 non-null  float64\n",
      " 25  V26     56962 non-null  float64\n",
      " 26  V27     56962 non-null  float64\n",
      " 27  V28     56962 non-null  float64\n",
      " 28  V29     56962 non-null  float64\n",
      " 29  Target  56962 non-null  int64  \n",
      "dtypes: float64(29), int64(1)\n",
      "memory usage: 13.0 MB\n"
     ]
    }
   ],
   "source": [
    "df.info()"
   ]
  },
  {
   "cell_type": "code",
   "execution_count": 5,
   "metadata": {},
   "outputs": [
    {
     "data": {
      "text/plain": [
       "675"
      ]
     },
     "execution_count": 5,
     "metadata": {},
     "output_type": "execute_result"
    }
   ],
   "source": [
    "df.duplicated().sum()"
   ]
  },
  {
   "cell_type": "code",
   "execution_count": 6,
   "metadata": {},
   "outputs": [],
   "source": [
    "df.drop_duplicates(keep=\"first\",inplace=True)"
   ]
  },
  {
   "cell_type": "code",
   "execution_count": 7,
   "metadata": {},
   "outputs": [
    {
     "data": {
      "text/plain": [
       " 0.114697    1\n",
       " 1.095879    1\n",
       " 1.890439    1\n",
       "-2.975203    1\n",
       " 1.161465    1\n",
       "            ..\n",
       "-1.520696    1\n",
       " 1.291114    1\n",
       "-0.309600    1\n",
       "-0.673507    1\n",
       "-7.792712    1\n",
       "Name: V1, Length: 56287, dtype: int64"
      ]
     },
     "execution_count": 7,
     "metadata": {},
     "output_type": "execute_result"
    }
   ],
   "source": [
    "df[\"V1\"].value_counts()"
   ]
  },
  {
   "cell_type": "code",
   "execution_count": 8,
   "metadata": {},
   "outputs": [
    {
     "data": {
      "text/plain": [
       " 0.796303    1\n",
       "-1.980273    1\n",
       "-0.280671    1\n",
       "-2.387436    1\n",
       "-0.053200    1\n",
       "            ..\n",
       " 0.551994    1\n",
       " 0.149257    1\n",
       " 0.677733    1\n",
       "-0.455164    1\n",
       " 5.599937    1\n",
       "Name: V2, Length: 56287, dtype: int64"
      ]
     },
     "execution_count": 8,
     "metadata": {},
     "output_type": "execute_result"
    }
   ],
   "source": [
    "df[\"V2\"].value_counts()\n"
   ]
  },
  {
   "cell_type": "code",
   "execution_count": 9,
   "metadata": {},
   "outputs": [
    {
     "data": {
      "text/plain": [
       "-0.149553    1\n",
       "-1.889171    1\n",
       "-0.441258    1\n",
       " 1.251261    1\n",
       " 0.781972    1\n",
       "            ..\n",
       " 2.497638    1\n",
       "-1.164099    1\n",
       "-1.906880    1\n",
       " 2.116130    1\n",
       " 0.258943    1\n",
       "Name: V3, Length: 56287, dtype: int64"
      ]
     },
     "execution_count": 9,
     "metadata": {},
     "output_type": "execute_result"
    }
   ],
   "source": [
    "df[\"V3\"].value_counts()"
   ]
  },
  {
   "cell_type": "code",
   "execution_count": 10,
   "metadata": {},
   "outputs": [
    {
     "data": {
      "text/plain": [
       "-0.823011    1\n",
       "-0.235637    1\n",
       " 1.394108    1\n",
       "-0.924438    1\n",
       " 0.401208    1\n",
       "            ..\n",
       " 0.378698    1\n",
       "-0.269826    1\n",
       " 0.081914    1\n",
       "-1.691251    1\n",
       " 0.061360    1\n",
       "Name: V4, Length: 56287, dtype: int64"
      ]
     },
     "execution_count": 10,
     "metadata": {},
     "output_type": "execute_result"
    }
   ],
   "source": [
    "df[\"V4\"].value_counts()"
   ]
  },
  {
   "cell_type": "code",
   "execution_count": 11,
   "metadata": {},
   "outputs": [
    {
     "data": {
      "text/plain": [
       " 0.878763    1\n",
       "-0.783760    1\n",
       "-0.229893    1\n",
       " 0.632920    1\n",
       "-0.442579    1\n",
       "            ..\n",
       "-0.395008    1\n",
       " 2.201909    1\n",
       " 0.026955    1\n",
       "-0.178987    1\n",
       "-2.586555    1\n",
       "Name: V5, Length: 56287, dtype: int64"
      ]
     },
     "execution_count": 11,
     "metadata": {},
     "output_type": "execute_result"
    }
   ],
   "source": [
    "df[\"V5\"].value_counts()"
   ]
  },
  {
   "cell_type": "code",
   "execution_count": 12,
   "metadata": {},
   "outputs": [
    {
     "data": {
      "text/plain": [
       "-0.553152    1\n",
       "-1.208543    1\n",
       " 0.250374    1\n",
       " 0.833425    1\n",
       " 0.253524    1\n",
       "            ..\n",
       "-0.094083    1\n",
       " 3.232920    1\n",
       "-1.165279    1\n",
       " 0.577092    1\n",
       " 4.770837    1\n",
       "Name: V6, Length: 56287, dtype: int64"
      ]
     },
     "execution_count": 12,
     "metadata": {},
     "output_type": "execute_result"
    }
   ],
   "source": [
    "df[\"V6\"].value_counts()"
   ]
  },
  {
   "cell_type": "code",
   "execution_count": 13,
   "metadata": {},
   "outputs": [
    {
     "data": {
      "text/plain": [
       " 0.939259    1\n",
       " 0.826629    1\n",
       "-0.387064    1\n",
       "-0.487540    1\n",
       "-0.535719    1\n",
       "            ..\n",
       "-0.323623    1\n",
       "-0.581868    1\n",
       " 1.688442    1\n",
       "-0.397919    1\n",
       "-8.221863    1\n",
       "Name: V7, Length: 56287, dtype: int64"
      ]
     },
     "execution_count": 13,
     "metadata": {},
     "output_type": "execute_result"
    }
   ],
   "source": [
    "df[\"V7\"].value_counts()"
   ]
  },
  {
   "cell_type": "code",
   "execution_count": 14,
   "metadata": {},
   "outputs": [
    {
     "data": {
      "text/plain": [
       "-0.108502     1\n",
       "-0.489540     1\n",
       " 0.194318     1\n",
       " 1.192537     1\n",
       " 0.248403     1\n",
       "             ..\n",
       " 0.755133     1\n",
       " 0.721198     1\n",
       "-0.002170     1\n",
       " 0.183223     1\n",
       "-20.298380    1\n",
       "Name: V8, Length: 56287, dtype: int64"
      ]
     },
     "execution_count": 14,
     "metadata": {},
     "output_type": "execute_result"
    }
   ],
   "source": [
    "df[\"V8\"].value_counts()"
   ]
  },
  {
   "cell_type": "code",
   "execution_count": 15,
   "metadata": {},
   "outputs": [
    {
     "data": {
      "text/plain": [
       " 0.111137    1\n",
       " 1.068852    1\n",
       " 1.038257    1\n",
       " 0.662699    1\n",
       " 0.157664    1\n",
       "            ..\n",
       " 0.036739    1\n",
       " 1.209473    1\n",
       " 0.056702    1\n",
       "-0.758143    1\n",
       " 2.028566    1\n",
       "Name: V9, Length: 56287, dtype: int64"
      ]
     },
     "execution_count": 15,
     "metadata": {},
     "output_type": "execute_result"
    }
   ],
   "source": [
    "df[\"V9\"].value_counts()"
   ]
  },
  {
   "cell_type": "code",
   "execution_count": 16,
   "metadata": {},
   "outputs": [
    {
     "data": {
      "text/plain": [
       " 0.092233    2\n",
       "-0.390521    1\n",
       "-0.174142    1\n",
       "-0.071600    1\n",
       " 0.165746    1\n",
       "            ..\n",
       "-0.985127    1\n",
       "-1.244522    1\n",
       "-0.593594    1\n",
       "-1.954597    1\n",
       "-0.030694    1\n",
       "Name: V10, Length: 56286, dtype: int64"
      ]
     },
     "execution_count": 16,
     "metadata": {},
     "output_type": "execute_result"
    }
   ],
   "source": [
    "df[\"V10\"].value_counts()"
   ]
  },
  {
   "cell_type": "code",
   "execution_count": 17,
   "metadata": {},
   "outputs": [
    {
     "data": {
      "text/plain": [
       " 0.311963    2\n",
       "-1.949546    1\n",
       "-0.687856    1\n",
       "-0.419976    1\n",
       " 1.289015    1\n",
       "            ..\n",
       " 1.079303    1\n",
       "-0.795447    1\n",
       " 1.189265    1\n",
       " 1.458946    1\n",
       "-1.062381    1\n",
       "Name: V11, Length: 56286, dtype: int64"
      ]
     },
     "execution_count": 17,
     "metadata": {},
     "output_type": "execute_result"
    }
   ],
   "source": [
    "df[\"V11\"].value_counts()"
   ]
  },
  {
   "cell_type": "code",
   "execution_count": 18,
   "metadata": {},
   "outputs": [
    {
     "data": {
      "text/plain": [
       "-0.494436    1\n",
       " 0.508844    1\n",
       " 0.978574    1\n",
       " 0.848959    1\n",
       " 0.822965    1\n",
       "            ..\n",
       " 0.517964    1\n",
       "-2.534574    1\n",
       " 0.248722    1\n",
       " 0.587702    1\n",
       " 2.770191    1\n",
       "Name: V12, Length: 56287, dtype: int64"
      ]
     },
     "execution_count": 18,
     "metadata": {},
     "output_type": "execute_result"
    }
   ],
   "source": [
    "df[\"V12\"].value_counts()"
   ]
  },
  {
   "cell_type": "code",
   "execution_count": 19,
   "metadata": {},
   "outputs": [
    {
     "data": {
      "text/plain": [
       " 0.804380    2\n",
       "-0.353696    1\n",
       "-0.205128    1\n",
       "-0.328876    1\n",
       " 0.007019    1\n",
       "            ..\n",
       "-0.123716    1\n",
       " 1.653415    1\n",
       " 0.249661    1\n",
       " 0.263820    1\n",
       "-0.732390    1\n",
       "Name: V13, Length: 56286, dtype: int64"
      ]
     },
     "execution_count": 19,
     "metadata": {},
     "output_type": "execute_result"
    }
   ],
   "source": [
    "df[\"V13\"].value_counts()"
   ]
  },
  {
   "cell_type": "code",
   "execution_count": 20,
   "metadata": {},
   "outputs": [
    {
     "data": {
      "text/plain": [
       "-0.094409    2\n",
       " 0.158729    1\n",
       " 0.518553    1\n",
       "-0.135264    1\n",
       " 0.285089    1\n",
       "            ..\n",
       "-0.117203    1\n",
       " 1.324451    1\n",
       "-1.776633    1\n",
       "-0.582389    1\n",
       " 0.095124    1\n",
       "Name: V14, Length: 56286, dtype: int64"
      ]
     },
     "execution_count": 20,
     "metadata": {},
     "output_type": "execute_result"
    }
   ],
   "source": [
    "df[\"V14\"].value_counts()"
   ]
  },
  {
   "cell_type": "code",
   "execution_count": 21,
   "metadata": {},
   "outputs": [
    {
     "data": {
      "text/plain": [
       "-0.267239    1\n",
       " 0.228151    1\n",
       "-1.770965    1\n",
       "-0.421023    1\n",
       " 0.900159    1\n",
       "            ..\n",
       "-0.195374    1\n",
       " 0.564059    1\n",
       "-1.028924    1\n",
       "-0.408265    1\n",
       "-2.095952    1\n",
       "Name: V15, Length: 56287, dtype: int64"
      ]
     },
     "execution_count": 21,
     "metadata": {},
     "output_type": "execute_result"
    }
   ],
   "source": [
    "df[\"V15\"].value_counts()"
   ]
  },
  {
   "cell_type": "code",
   "execution_count": 22,
   "metadata": {},
   "outputs": [
    {
     "data": {
      "text/plain": [
       " 0.073707    2\n",
       " 0.480196    2\n",
       "-0.529884    1\n",
       "-0.142091    1\n",
       "-0.653239    1\n",
       "            ..\n",
       "-0.036904    1\n",
       " 0.785140    1\n",
       " 0.156691    1\n",
       "-1.575768    1\n",
       "-0.745987    1\n",
       "Name: V16, Length: 56285, dtype: int64"
      ]
     },
     "execution_count": 22,
     "metadata": {},
     "output_type": "execute_result"
    }
   ],
   "source": [
    "df[\"V16\"].value_counts()"
   ]
  },
  {
   "cell_type": "code",
   "execution_count": 23,
   "metadata": {},
   "outputs": [
    {
     "data": {
      "text/plain": [
       "-0.754936    1\n",
       " 0.044475    1\n",
       "-0.351168    1\n",
       " 0.893639    1\n",
       "-0.627945    1\n",
       "            ..\n",
       " 0.110785    1\n",
       " 0.237187    1\n",
       " 1.464532    1\n",
       "-0.040167    1\n",
       " 2.542327    1\n",
       "Name: V17, Length: 56287, dtype: int64"
      ]
     },
     "execution_count": 23,
     "metadata": {},
     "output_type": "execute_result"
    }
   ],
   "source": [
    "df[\"V17\"].value_counts()"
   ]
  },
  {
   "cell_type": "code",
   "execution_count": 24,
   "metadata": {},
   "outputs": [
    {
     "data": {
      "text/plain": [
       " 1.308374    2\n",
       "-0.343012    1\n",
       "-0.657729    1\n",
       "-2.386770    1\n",
       " 0.038074    1\n",
       "            ..\n",
       " 1.392756    1\n",
       "-0.471896    1\n",
       " 0.442317    1\n",
       " 0.633207    1\n",
       "-0.767729    1\n",
       "Name: V18, Length: 56286, dtype: int64"
      ]
     },
     "execution_count": 24,
     "metadata": {},
     "output_type": "execute_result"
    }
   ],
   "source": [
    "df[\"V18\"].value_counts()"
   ]
  },
  {
   "cell_type": "code",
   "execution_count": 25,
   "metadata": {},
   "outputs": [
    {
     "data": {
      "text/plain": [
       " 0.312175    1\n",
       " 0.455225    1\n",
       " 0.580743    1\n",
       "-2.759111    1\n",
       "-0.268549    1\n",
       "            ..\n",
       "-1.194847    1\n",
       "-0.031883    1\n",
       "-0.478844    1\n",
       "-1.794647    1\n",
       "-0.442040    1\n",
       "Name: V19, Length: 56287, dtype: int64"
      ]
     },
     "execution_count": 25,
     "metadata": {},
     "output_type": "execute_result"
    }
   ],
   "source": [
    "df[\"V19\"].value_counts()"
   ]
  },
  {
   "cell_type": "code",
   "execution_count": 26,
   "metadata": {},
   "outputs": [
    {
     "data": {
      "text/plain": [
       "-0.090263    2\n",
       "-0.022932    2\n",
       "-0.114348    1\n",
       "-0.371646    1\n",
       "-0.050388    1\n",
       "            ..\n",
       "-0.479963    1\n",
       "-0.156347    1\n",
       " 0.013925    1\n",
       " 0.205682    1\n",
       "-2.136013    1\n",
       "Name: V20, Length: 56285, dtype: int64"
      ]
     },
     "execution_count": 26,
     "metadata": {},
     "output_type": "execute_result"
    }
   ],
   "source": [
    "df[\"V20\"].value_counts()"
   ]
  },
  {
   "cell_type": "code",
   "execution_count": 27,
   "metadata": {},
   "outputs": [
    {
     "data": {
      "text/plain": [
       "-0.335776     1\n",
       " 0.062174     1\n",
       "-0.494130     1\n",
       " 0.357700     1\n",
       "-0.030212     1\n",
       "             ..\n",
       " 0.115435     1\n",
       "-0.485901     1\n",
       " 0.268125     1\n",
       "-0.081473     1\n",
       " 12.641459    1\n",
       "Name: V21, Length: 56287, dtype: int64"
      ]
     },
     "execution_count": 27,
     "metadata": {},
     "output_type": "execute_result"
    }
   ],
   "source": [
    "df[\"V21\"].value_counts()"
   ]
  },
  {
   "cell_type": "code",
   "execution_count": 28,
   "metadata": {},
   "outputs": [
    {
     "data": {
      "text/plain": [
       "-0.807853    1\n",
       "-0.790833    1\n",
       "-1.202136    1\n",
       " 0.051731    1\n",
       "-0.088636    1\n",
       "            ..\n",
       " 0.193643    1\n",
       "-1.341081    1\n",
       " 0.551194    1\n",
       " 0.544581    1\n",
       "-4.187308    1\n",
       "Name: V22, Length: 56287, dtype: int64"
      ]
     },
     "execution_count": 28,
     "metadata": {},
     "output_type": "execute_result"
    }
   ],
   "source": [
    "df[\"V22\"].value_counts()"
   ]
  },
  {
   "cell_type": "code",
   "execution_count": 29,
   "metadata": {},
   "outputs": [
    {
     "data": {
      "text/plain": [
       " 0.161184    2\n",
       " 0.356080    2\n",
       " 0.107707    2\n",
       "-0.204245    2\n",
       "-0.078890    2\n",
       "            ..\n",
       " 0.096462    1\n",
       " 0.783479    1\n",
       "-0.125223    1\n",
       " 0.415367    1\n",
       " 2.655058    1\n",
       "Name: V23, Length: 56282, dtype: int64"
      ]
     },
     "execution_count": 29,
     "metadata": {},
     "output_type": "execute_result"
    }
   ],
   "source": [
    "df[\"V23\"].value_counts()"
   ]
  },
  {
   "cell_type": "code",
   "execution_count": 30,
   "metadata": {},
   "outputs": [
    {
     "data": {
      "text/plain": [
       " 0.406878    2\n",
       "-1.025281    1\n",
       " 0.265704    1\n",
       "-0.292124    1\n",
       " 0.030754    1\n",
       "            ..\n",
       " 0.401941    1\n",
       " 0.885711    1\n",
       "-0.140873    1\n",
       "-0.229227    1\n",
       " 0.350225    1\n",
       "Name: V24, Length: 56286, dtype: int64"
      ]
     },
     "execution_count": 30,
     "metadata": {},
     "output_type": "execute_result"
    }
   ],
   "source": [
    "df[\"V24\"].value_counts()"
   ]
  },
  {
   "cell_type": "code",
   "execution_count": 31,
   "metadata": {},
   "outputs": [
    {
     "data": {
      "text/plain": [
       "-0.369557    1\n",
       "-0.421268    1\n",
       "-0.335803    1\n",
       "-0.644003    1\n",
       " 0.097438    1\n",
       "            ..\n",
       " 0.329308    1\n",
       " 0.342184    1\n",
       "-1.577879    1\n",
       "-0.785374    1\n",
       " 0.462620    1\n",
       "Name: V25, Length: 56287, dtype: int64"
      ]
     },
     "execution_count": 31,
     "metadata": {},
     "output_type": "execute_result"
    }
   ],
   "source": [
    "df[\"V25\"].value_counts()"
   ]
  },
  {
   "cell_type": "code",
   "execution_count": 32,
   "metadata": {},
   "outputs": [
    {
     "data": {
      "text/plain": [
       " 0.204653    1\n",
       " 0.392652    1\n",
       "-1.093829    1\n",
       " 0.675671    1\n",
       " 0.246220    1\n",
       "            ..\n",
       "-0.485773    1\n",
       " 0.070746    1\n",
       "-0.669978    1\n",
       " 0.944502    1\n",
       " 0.455248    1\n",
       "Name: V26, Length: 56287, dtype: int64"
      ]
     },
     "execution_count": 32,
     "metadata": {},
     "output_type": "execute_result"
    }
   ],
   "source": [
    "df[\"V26\"].value_counts()"
   ]
  },
  {
   "cell_type": "code",
   "execution_count": 33,
   "metadata": {},
   "outputs": [
    {
     "data": {
      "text/plain": [
       " 0.011697    2\n",
       " 0.059826    2\n",
       "-0.017936    2\n",
       "-0.180486    1\n",
       "-0.061622    1\n",
       "            ..\n",
       "-0.012489    1\n",
       "-0.050839    1\n",
       " 0.193030    1\n",
       "-0.120961    1\n",
       " 0.166157    1\n",
       "Name: V27, Length: 56284, dtype: int64"
      ]
     },
     "execution_count": 33,
     "metadata": {},
     "output_type": "execute_result"
    }
   ],
   "source": [
    "df[\"V27\"].value_counts()"
   ]
  },
  {
   "cell_type": "code",
   "execution_count": 34,
   "metadata": {},
   "outputs": [
    {
     "data": {
      "text/plain": [
       " 0.287367    2\n",
       "-0.052131    2\n",
       " 0.008476    2\n",
       " 0.085713    1\n",
       "-0.059990    1\n",
       "            ..\n",
       " 0.019316    1\n",
       " 0.358535    1\n",
       "-0.114999    1\n",
       "-0.038601    1\n",
       " 0.099680    1\n",
       "Name: V28, Length: 56284, dtype: int64"
      ]
     },
     "execution_count": 34,
     "metadata": {},
     "output_type": "execute_result"
    }
   ],
   "source": [
    "df[\"V28\"].value_counts()"
   ]
  },
  {
   "cell_type": "code",
   "execution_count": 35,
   "metadata": {},
   "outputs": [
    {
     "data": {
      "text/plain": [
       "1.00      2687\n",
       "1.98      1110\n",
       "0.89       937\n",
       "9.99       920\n",
       "15.00      615\n",
       "          ... \n",
       "9.18         1\n",
       "440.97       1\n",
       "239.02       1\n",
       "48.68        1\n",
       "61.12        1\n",
       "Name: V29, Length: 13700, dtype: int64"
      ]
     },
     "execution_count": 35,
     "metadata": {},
     "output_type": "execute_result"
    }
   ],
   "source": [
    "# Amount column\n",
    "df[\"V29\"].value_counts()"
   ]
  },
  {
   "cell_type": "code",
   "execution_count": 36,
   "metadata": {},
   "outputs": [
    {
     "data": {
      "text/plain": [
       "0    56189\n",
       "1       98\n",
       "Name: Target, dtype: int64"
      ]
     },
     "execution_count": 36,
     "metadata": {},
     "output_type": "execute_result"
    }
   ],
   "source": [
    "df[\"Target\"].value_counts()"
   ]
  },
  {
   "cell_type": "code",
   "execution_count": 37,
   "metadata": {},
   "outputs": [
    {
     "data": {
      "text/plain": [
       "<AxesSubplot:xlabel='Target', ylabel='count'>"
      ]
     },
     "execution_count": 37,
     "metadata": {},
     "output_type": "execute_result"
    },
    {
     "data": {
      "image/png": "[encoded data removed]",
      "text/plain": [
       "<Figure size 640x480 with 1 Axes>"
      ]
     },
     "metadata": {},
     "output_type": "display_data"
    }
   ],
   "source": [
    "import seaborn as sns\n",
    "sns.countplot(x=df[\"Target\"])"
   ]
  },
  {
   "cell_type": "code",
   "execution_count": 96,
   "metadata": {},
   "outputs": [
    {
     "data": {
      "text/plain": [
       "<AxesSubplot:xlabel='V1', ylabel='count'>"
      ]
     },
     "execution_count": 96,
     "metadata": {},
     "output_type": "execute_result"
    },
    {
     "data": {
      "image/png": "[encoded data removed]",
      "text/plain": [
       "<Figure size 640x480 with 1 Axes>"
      ]
     },
     "metadata": {},
     "output_type": "display_data"
    }
   ],
   "source": [
    "sns.countplot(x=\"V1\",hue=\"Target\",data=df,palette=\"RdBu_r\")"
   ]
  },
  {
   "cell_type": "code",
   "execution_count": 39,
   "metadata": {},
   "outputs": [
    {
     "data": {
      "text/plain": [
       "V1          Target\n",
       "-36.510583  0         1\n",
       " 1.175431   0         1\n",
       " 1.175208   0         1\n",
       " 1.175218   0         1\n",
       " 1.175224   0         1\n",
       "                     ..\n",
       "-0.639564   0         1\n",
       "-0.639558   0         1\n",
       "-0.639552   0         1\n",
       "-0.639524   0         1\n",
       " 2.446505   0         1\n",
       "Length: 56287, dtype: int64"
      ]
     },
     "execution_count": 39,
     "metadata": {},
     "output_type": "execute_result"
    }
   ],
   "source": [
    "df.value_counts([\"V1\",\"Target\"])"
   ]
  },
  {
   "cell_type": "code",
   "execution_count": 40,
   "metadata": {},
   "outputs": [
    {
     "data": {
      "text/plain": [
       "V2          Target\n",
       "-47.429676  0         1\n",
       " 0.524727   0         1\n",
       " 0.523995   0         1\n",
       " 0.524134   0         1\n",
       " 0.524204   0         1\n",
       "                     ..\n",
       "-0.345493   0         1\n",
       "-0.345483   0         1\n",
       "-0.345422   0         1\n",
       "-0.345332   0         1\n",
       " 18.902453  0         1\n",
       "Length: 56287, dtype: int64"
      ]
     },
     "execution_count": 40,
     "metadata": {},
     "output_type": "execute_result"
    }
   ],
   "source": [
    "df.value_counts([\"V2\",\"Target\"])"
   ]
  },
  {
   "cell_type": "code",
   "execution_count": 41,
   "metadata": {},
   "outputs": [
    {
     "data": {
      "text/plain": [
       "V3          Target\n",
       "-48.325589  0         1\n",
       " 0.724682   0         1\n",
       " 0.724018   0         1\n",
       " 0.724086   0         1\n",
       " 0.724088   0         1\n",
       "                     ..\n",
       "-0.450878   0         1\n",
       "-0.450724   0         1\n",
       "-0.450723   0         1\n",
       "-0.450547   0         1\n",
       " 3.985446   0         1\n",
       "Length: 56287, dtype: int64"
      ]
     },
     "execution_count": 41,
     "metadata": {},
     "output_type": "execute_result"
    }
   ],
   "source": [
    "df.value_counts([\"V3\",\"Target\"])"
   ]
  },
  {
   "cell_type": "code",
   "execution_count": 42,
   "metadata": {},
   "outputs": [
    {
     "data": {
      "text/plain": [
       "V4          Target\n",
       "-5.560118   0         1\n",
       " 0.458859   0         1\n",
       " 0.458208   0         1\n",
       " 0.458249   0         1\n",
       " 0.458313   0         1\n",
       "                     ..\n",
       "-0.608639   0         1\n",
       "-0.608610   0         1\n",
       "-0.608564   0         1\n",
       "-0.608449   0         1\n",
       " 15.304184  0         1\n",
       "Length: 56287, dtype: int64"
      ]
     },
     "execution_count": 42,
     "metadata": {},
     "output_type": "execute_result"
    }
   ],
   "source": [
    "df.value_counts([\"V4\",\"Target\"])"
   ]
  },
  {
   "cell_type": "code",
   "execution_count": 43,
   "metadata": {},
   "outputs": [
    {
     "data": {
      "text/plain": [
       "V5           Target\n",
       "-113.743307  0         1\n",
       " 0.359953    0         1\n",
       " 0.359332    0         1\n",
       " 0.359373    0         1\n",
       " 0.359393    0         1\n",
       "                      ..\n",
       "-0.458403    0         1\n",
       "-0.458258    0         1\n",
       "-0.458254    0         1\n",
       "-0.458244    0         1\n",
       " 29.016124   0         1\n",
       "Length: 56287, dtype: int64"
      ]
     },
     "execution_count": 43,
     "metadata": {},
     "output_type": "execute_result"
    }
   ],
   "source": [
    "df.value_counts([\"V5\",\"Target\"])"
   ]
  },
  {
   "cell_type": "code",
   "execution_count": 44,
   "metadata": {},
   "outputs": [
    {
     "data": {
      "text/plain": [
       "V6          Target\n",
       "-20.054615  0         1\n",
       " 0.115706   0         1\n",
       " 0.115316   0         1\n",
       " 0.115342   0         1\n",
       " 0.115369   0         1\n",
       "                     ..\n",
       "-0.605348   0         1\n",
       "-0.605299   0         1\n",
       "-0.605272   0         1\n",
       "-0.605213   0         1\n",
       " 73.301626  0         1\n",
       "Length: 56287, dtype: int64"
      ]
     },
     "execution_count": 44,
     "metadata": {},
     "output_type": "execute_result"
    }
   ],
   "source": [
    "df.value_counts([\"V6\",\"Target\"])"
   ]
  },
  {
   "cell_type": "code",
   "execution_count": 45,
   "metadata": {},
   "outputs": [
    {
     "data": {
      "text/plain": [
       "V7           Target\n",
       "-28.215112   1         1\n",
       " 0.361375    0         1\n",
       " 0.360799    0         1\n",
       " 0.360811    0         1\n",
       " 0.360835    0         1\n",
       "                      ..\n",
       "-0.332457    0         1\n",
       "-0.332411    0         1\n",
       "-0.332310    0         1\n",
       "-0.332293    0         1\n",
       " 120.589494  0         1\n",
       "Length: 56287, dtype: int64"
      ]
     },
     "execution_count": 45,
     "metadata": {},
     "output_type": "execute_result"
    }
   ],
   "source": [
    "df.value_counts([\"V7\",\"Target\"])"
   ]
  },
  {
   "cell_type": "code",
   "execution_count": 46,
   "metadata": {},
   "outputs": [
    {
     "data": {
      "text/plain": [
       "V8          Target\n",
       "-41.484823  0         1\n",
       " 0.192847   0         1\n",
       " 0.192613   0         1\n",
       " 0.192628   0         1\n",
       " 0.192629   0         1\n",
       "                     ..\n",
       "-0.129264   0         1\n",
       "-0.129256   0         1\n",
       "-0.129241   0         1\n",
       "-0.129233   0         1\n",
       " 18.282168  0         1\n",
       "Length: 56287, dtype: int64"
      ]
     },
     "execution_count": 46,
     "metadata": {},
     "output_type": "execute_result"
    }
   ],
   "source": [
    "df.value_counts([\"V8\",\"Target\"])"
   ]
  },
  {
   "cell_type": "code",
   "execution_count": 47,
   "metadata": {},
   "outputs": [
    {
     "data": {
      "text/plain": [
       "V9          Target\n",
       "-9.481456   1         1\n",
       " 0.352394   0         1\n",
       " 0.351976   0         1\n",
       " 0.352016   0         1\n",
       " 0.352022   0         1\n",
       "                     ..\n",
       "-0.421980   0         1\n",
       "-0.421957   0         1\n",
       "-0.421918   0         1\n",
       "-0.421867   0         1\n",
       " 10.370658  0         1\n",
       "Length: 56287, dtype: int64"
      ]
     },
     "execution_count": 47,
     "metadata": {},
     "output_type": "execute_result"
    }
   ],
   "source": [
    "df.value_counts([\"V9\",\"Target\"])"
   ]
  },
  {
   "cell_type": "code",
   "execution_count": 48,
   "metadata": {},
   "outputs": [
    {
     "data": {
      "text/plain": [
       "V10         Target\n",
       " 0.092233   0         2\n",
       "-20.949192  1         1\n",
       " 0.191536   0         1\n",
       " 0.191090   0         1\n",
       " 0.191118   0         1\n",
       "                     ..\n",
       "-0.368299   0         1\n",
       "-0.368290   0         1\n",
       "-0.368257   0         1\n",
       "-0.368205   0         1\n",
       " 15.236028  0         1\n",
       "Length: 56286, dtype: int64"
      ]
     },
     "execution_count": 48,
     "metadata": {},
     "output_type": "execute_result"
    }
   ],
   "source": [
    "df.value_counts([\"V10\",\"Target\"])"
   ]
  },
  {
   "cell_type": "code",
   "execution_count": 49,
   "metadata": {},
   "outputs": [
    {
     "data": {
      "text/plain": [
       "V11         Target\n",
       " 0.311963   0         2\n",
       "-4.009307   0         1\n",
       " 0.462421   0         1\n",
       " 0.461708   0         1\n",
       " 0.461721   0         1\n",
       "                     ..\n",
       "-0.528304   0         1\n",
       "-0.528274   0         1\n",
       "-0.528113   0         1\n",
       "-0.528092   0         1\n",
       " 12.018913  1         1\n",
       "Length: 56286, dtype: int64"
      ]
     },
     "execution_count": 49,
     "metadata": {},
     "output_type": "execute_result"
    }
   ],
   "source": [
    "df.value_counts([\"V11\",\"Target\"])"
   ]
  },
  {
   "cell_type": "code",
   "execution_count": 50,
   "metadata": {},
   "outputs": [
    {
     "data": {
      "text/plain": [
       "V12         Target\n",
       "-18.553697  1         1\n",
       " 0.446205   0         1\n",
       " 0.445881   0         1\n",
       " 0.445905   0         1\n",
       " 0.445929   0         1\n",
       "                     ..\n",
       "-0.197968   0         1\n",
       "-0.197941   0         1\n",
       "-0.197899   0         1\n",
       "-0.197849   0         1\n",
       " 4.846452   0         1\n",
       "Length: 56287, dtype: int64"
      ]
     },
     "execution_count": 50,
     "metadata": {},
     "output_type": "execute_result"
    }
   ],
   "source": [
    "df.value_counts([\"V12\",\"Target\"])"
   ]
  },
  {
   "cell_type": "code",
   "execution_count": 51,
   "metadata": {},
   "outputs": [
    {
     "data": {
      "text/plain": [
       "V13        Target\n",
       " 0.804380  0         2\n",
       "-3.848943  0         1\n",
       " 0.414822  0         1\n",
       " 0.414394  0         1\n",
       " 0.414413  0         1\n",
       "                    ..\n",
       "-0.408521  0         1\n",
       "-0.408491  0         1\n",
       "-0.408472  0         1\n",
       "-0.408362  0         1\n",
       " 7.126883  0         1\n",
       "Length: 56286, dtype: int64"
      ]
     },
     "execution_count": 51,
     "metadata": {},
     "output_type": "execute_result"
    }
   ],
   "source": [
    "df.value_counts([\"V13\",\"Target\"])"
   ]
  },
  {
   "cell_type": "code",
   "execution_count": 52,
   "metadata": {},
   "outputs": [
    {
     "data": {
      "text/plain": [
       "V14         Target\n",
       "-0.094409   0         2\n",
       "-19.214325  1         1\n",
       " 0.325647   0         1\n",
       " 0.325268   0         1\n",
       " 0.325269   0         1\n",
       "                     ..\n",
       "-0.245104   0         1\n",
       "-0.245098   0         1\n",
       "-0.245003   0         1\n",
       "-0.244990   0         1\n",
       " 7.421944   0         1\n",
       "Length: 56286, dtype: int64"
      ]
     },
     "execution_count": 52,
     "metadata": {},
     "output_type": "execute_result"
    }
   ],
   "source": [
    "df.value_counts([\"V14\",\"Target\"])"
   ]
  },
  {
   "cell_type": "code",
   "execution_count": 53,
   "metadata": {},
   "outputs": [
    {
     "data": {
      "text/plain": [
       "V15        Target\n",
       "-4.092344  0         1\n",
       " 0.428556  0         1\n",
       " 0.428250  0         1\n",
       " 0.428274  0         1\n",
       " 0.428317  0         1\n",
       "                    ..\n",
       "-0.354455  0         1\n",
       "-0.354443  0         1\n",
       "-0.354372  0         1\n",
       "-0.354336  0         1\n",
       " 8.877742  0         1\n",
       "Length: 56287, dtype: int64"
      ]
     },
     "execution_count": 53,
     "metadata": {},
     "output_type": "execute_result"
    }
   ],
   "source": [
    "df.value_counts([\"V15\",\"Target\"])"
   ]
  },
  {
   "cell_type": "code",
   "execution_count": 54,
   "metadata": {},
   "outputs": [
    {
     "data": {
      "text/plain": [
       "V16         Target\n",
       " 0.073707   0         2\n",
       " 0.480196   0         2\n",
       " 0.361752   0         1\n",
       " 0.361425   0         1\n",
       " 0.361449   0         1\n",
       "                     ..\n",
       "-0.267522   0         1\n",
       "-0.267515   0         1\n",
       "            0         1\n",
       "-0.267454   0         1\n",
       " 17.315112  0         1\n",
       "Length: 56285, dtype: int64"
      ]
     },
     "execution_count": 54,
     "metadata": {},
     "output_type": "execute_result"
    }
   ],
   "source": [
    "df.value_counts([\"V16\",\"Target\"])"
   ]
  },
  {
   "cell_type": "code",
   "execution_count": 55,
   "metadata": {},
   "outputs": [
    {
     "data": {
      "text/plain": [
       "V17         Target\n",
       "-21.710188  1         1\n",
       " 0.230765   0         1\n",
       " 0.230480   0         1\n",
       " 0.230483   0         1\n",
       " 0.230496   0         1\n",
       "                     ..\n",
       "-0.345345   0         1\n",
       "-0.345318   0         1\n",
       "-0.345311   0         1\n",
       "-0.345239   0         1\n",
       " 7.733456   0         1\n",
       "Length: 56287, dtype: int64"
      ]
     },
     "execution_count": 55,
     "metadata": {},
     "output_type": "execute_result"
    }
   ],
   "source": [
    "df.value_counts([\"V17\",\"Target\"])"
   ]
  },
  {
   "cell_type": "code",
   "execution_count": 56,
   "metadata": {},
   "outputs": [
    {
     "data": {
      "text/plain": [
       "V18        Target\n",
       " 1.308374  0         2\n",
       "-8.859452  1         1\n",
       " 0.315576  0         1\n",
       " 0.314982  0         1\n",
       " 0.315073  0         1\n",
       "                    ..\n",
       "-0.311321  0         1\n",
       "-0.311201  0         1\n",
       "-0.311114  0         1\n",
       "-0.310993  0         1\n",
       " 4.093440  0         1\n",
       "Length: 56286, dtype: int64"
      ]
     },
     "execution_count": 56,
     "metadata": {},
     "output_type": "execute_result"
    }
   ],
   "source": [
    "df.value_counts([\"V18\",\"Target\"])"
   ]
  },
  {
   "cell_type": "code",
   "execution_count": 57,
   "metadata": {},
   "outputs": [
    {
     "data": {
      "text/plain": [
       "V19        Target\n",
       "-4.619034  0         1\n",
       " 0.285308  0         1\n",
       " 0.285088  0         1\n",
       " 0.285115  0         1\n",
       " 0.285124  0         1\n",
       "                    ..\n",
       "-0.276761  0         1\n",
       "-0.276701  0         1\n",
       "-0.276660  0         1\n",
       "-0.276650  0         1\n",
       " 5.591971  0         1\n",
       "Length: 56287, dtype: int64"
      ]
     },
     "execution_count": 57,
     "metadata": {},
     "output_type": "execute_result"
    }
   ],
   "source": [
    "df.value_counts([\"V19\",\"Target\"])"
   ]
  },
  {
   "cell_type": "code",
   "execution_count": 58,
   "metadata": {},
   "outputs": [
    {
     "data": {
      "text/plain": [
       "V20         Target\n",
       "-0.022932   0         2\n",
       "-0.090263   0         2\n",
       " 0.055603   0         1\n",
       " 0.055486   0         1\n",
       " 0.055490   0         1\n",
       "                     ..\n",
       "-0.157782   0         1\n",
       "-0.157775   0         1\n",
       "-0.157762   0         1\n",
       "-0.157744   0         1\n",
       " 19.746453  0         1\n",
       "Length: 56285, dtype: int64"
      ]
     },
     "execution_count": 58,
     "metadata": {},
     "output_type": "execute_result"
    }
   ],
   "source": [
    "df.value_counts([\"V20\",\"Target\"])"
   ]
  },
  {
   "cell_type": "code",
   "execution_count": 59,
   "metadata": {},
   "outputs": [
    {
     "data": {
      "text/plain": [
       "V21         Target\n",
       "-21.620120  0         1\n",
       " 0.106059   0         1\n",
       " 0.105867   0         1\n",
       " 0.105875   0         1\n",
       " 0.105892   0         1\n",
       "                     ..\n",
       "-0.162028   0         1\n",
       "-0.162023   0         1\n",
       "-0.162021   0         1\n",
       "-0.162017   0         1\n",
       " 22.614889  0         1\n",
       "Length: 56287, dtype: int64"
      ]
     },
     "execution_count": 59,
     "metadata": {},
     "output_type": "execute_result"
    }
   ],
   "source": [
    "df.value_counts([\"V21\",\"Target\"])"
   ]
  },
  {
   "cell_type": "code",
   "execution_count": 60,
   "metadata": {},
   "outputs": [
    {
     "data": {
      "text/plain": [
       "V22        Target\n",
       "-8.593642  0         1\n",
       " 0.339059  0         1\n",
       " 0.338700  0         1\n",
       " 0.338760  0         1\n",
       " 0.338768  0         1\n",
       "                    ..\n",
       "-0.359387  0         1\n",
       "-0.359216  0         1\n",
       "           0         1\n",
       "-0.359212  0         1\n",
       " 6.790452  0         1\n",
       "Length: 56287, dtype: int64"
      ]
     },
     "execution_count": 60,
     "metadata": {},
     "output_type": "execute_result"
    }
   ],
   "source": [
    "df.value_counts([\"V22\",\"Target\"])"
   ]
  },
  {
   "cell_type": "code",
   "execution_count": 61,
   "metadata": {},
   "outputs": [
    {
     "data": {
      "text/plain": [
       "V23         Target\n",
       "-0.078890   0         2\n",
       "-0.204245   0         2\n",
       " 0.161184   0         2\n",
       " 0.356080   0         2\n",
       " 0.107707   0         2\n",
       "                     ..\n",
       "-0.102749   0         1\n",
       "-0.102741   0         1\n",
       "-0.102719   0         1\n",
       "-0.102707   0         1\n",
       " 20.803344  0         1\n",
       "Length: 56282, dtype: int64"
      ]
     },
     "execution_count": 61,
     "metadata": {},
     "output_type": "execute_result"
    }
   ],
   "source": [
    "df.value_counts([\"V23\",\"Target\"])"
   ]
  },
  {
   "cell_type": "code",
   "execution_count": 62,
   "metadata": {},
   "outputs": [],
   "source": [
    "# df[[\"V23\",\"Target\"]].value_counts()"
   ]
  },
  {
   "cell_type": "code",
   "execution_count": 63,
   "metadata": {},
   "outputs": [
    {
     "data": {
      "text/plain": [
       "V24        Target\n",
       " 0.406878  0         2\n",
       "-2.822684  0         1\n",
       " 0.315643  0         1\n",
       " 0.315202  0         1\n",
       " 0.315232  0         1\n",
       "                    ..\n",
       "-0.156905  0         1\n",
       "-0.156904  0         1\n",
       "-0.156879  0         1\n",
       "-0.156863  0         1\n",
       " 4.584549  0         1\n",
       "Length: 56286, dtype: int64"
      ]
     },
     "execution_count": 63,
     "metadata": {},
     "output_type": "execute_result"
    }
   ],
   "source": [
    "df.value_counts([\"V24\",\"Target\"])"
   ]
  },
  {
   "cell_type": "code",
   "execution_count": 64,
   "metadata": {},
   "outputs": [
    {
     "data": {
      "text/plain": [
       "V25        Target\n",
       "-8.696627  0         1\n",
       " 0.238134  0         1\n",
       " 0.237834  0         1\n",
       " 0.237953  0         1\n",
       " 0.237973  0         1\n",
       "                    ..\n",
       "-0.217137  0         1\n",
       "-0.217129  0         1\n",
       "-0.217117  0         1\n",
       "-0.217084  0         1\n",
       " 7.519589  0         1\n",
       "Length: 56287, dtype: int64"
      ]
     },
     "execution_count": 64,
     "metadata": {},
     "output_type": "execute_result"
    }
   ],
   "source": [
    "df.value_counts([\"V25\",\"Target\"])"
   ]
  },
  {
   "cell_type": "code",
   "execution_count": 65,
   "metadata": {},
   "outputs": [
    {
     "data": {
      "text/plain": [
       "V26        Target\n",
       "-1.778061  0         1\n",
       " 0.143884  0         1\n",
       " 0.143728  0         1\n",
       " 0.143741  0         1\n",
       " 0.143788  0         1\n",
       "                    ..\n",
       "-0.235855  0         1\n",
       "-0.235843  0         1\n",
       "-0.235841  0         1\n",
       "-0.235839  0         1\n",
       " 3.517346  0         1\n",
       "Length: 56287, dtype: int64"
      ]
     },
     "execution_count": 65,
     "metadata": {},
     "output_type": "execute_result"
    }
   ],
   "source": [
    "df.value_counts([\"V26\",\"Target\"])"
   ]
  },
  {
   "cell_type": "code",
   "execution_count": 66,
   "metadata": {},
   "outputs": [
    {
     "data": {
      "text/plain": [
       "V27         Target\n",
       " 0.059826   0         2\n",
       " 0.011697   0         2\n",
       "-0.017936   0         2\n",
       " 0.049622   0         1\n",
       " 0.049570   0         1\n",
       "                     ..\n",
       "-0.041935   0         1\n",
       "-0.041932   0         1\n",
       "-0.041927   0         1\n",
       "-0.041924   0         1\n",
       " 31.612198  0         1\n",
       "Length: 56284, dtype: int64"
      ]
     },
     "execution_count": 66,
     "metadata": {},
     "output_type": "execute_result"
    }
   ],
   "source": [
    "df.value_counts([\"V27\",\"Target\"])"
   ]
  },
  {
   "cell_type": "code",
   "execution_count": 67,
   "metadata": {},
   "outputs": [
    {
     "data": {
      "text/plain": [
       "V28         Target\n",
       " 0.008476   0         2\n",
       "-0.052131   0         2\n",
       " 0.287367   0         2\n",
       "-15.430084  0         1\n",
       " 0.042093   0         1\n",
       "                     ..\n",
       "-0.031554   0         1\n",
       "-0.031548   0         1\n",
       "            0         1\n",
       "-0.031542   0         1\n",
       " 22.620072  0         1\n",
       "Length: 56284, dtype: int64"
      ]
     },
     "execution_count": 67,
     "metadata": {},
     "output_type": "execute_result"
    }
   ],
   "source": [
    "df.value_counts([\"V28\",\"Target\"])"
   ]
  },
  {
   "cell_type": "code",
   "execution_count": 68,
   "metadata": {},
   "outputs": [
    {
     "data": {
      "text/plain": [
       "V29       Target\n",
       "1.00      0         2664\n",
       "1.98      0         1110\n",
       "0.89      0          937\n",
       "9.99      0          920\n",
       "15.00     0          615\n",
       "                    ... \n",
       "117.71    0            1\n",
       "117.69    0            1\n",
       "117.60    0            1\n",
       "117.59    0            1\n",
       "25691.16  0            1\n",
       "Length: 13736, dtype: int64"
      ]
     },
     "execution_count": 68,
     "metadata": {},
     "output_type": "execute_result"
    }
   ],
   "source": [
    "df.value_counts([\"V29\",\"Target\"])"
   ]
  },
  {
   "cell_type": "code",
   "execution_count": 69,
   "metadata": {},
   "outputs": [],
   "source": [
    "df.rename(columns={\"V29\":\"Amount\"},inplace=True)"
   ]
  },
  {
   "cell_type": "code",
   "execution_count": 70,
   "metadata": {},
   "outputs": [
    {
     "data": {
      "text/html": [
       "<div>\n",
       "<style scoped>\n",
       "    .dataframe tbody tr th:only-of-type {\n",
       "        vertical-align: middle;\n",
       "    }\n",
       "\n",
       "    .dataframe tbody tr th {\n",
       "        vertical-align: top;\n",
       "    }\n",
       "\n",
       "    .dataframe thead th {\n",
       "        text-align: right;\n",
       "    }\n",
       "</style>\n",
       "<table border=\"1\" class=\"dataframe\">\n",
       "  <thead>\n",
       "    <tr style=\"text-align: right;\">\n",
       "      <th></th>\n",
       "      <th>V1</th>\n",
       "      <th>V2</th>\n",
       "      <th>V3</th>\n",
       "      <th>V4</th>\n",
       "      <th>V5</th>\n",
       "      <th>V6</th>\n",
       "      <th>V7</th>\n",
       "      <th>V8</th>\n",
       "      <th>V9</th>\n",
       "      <th>V10</th>\n",
       "      <th>...</th>\n",
       "      <th>V21</th>\n",
       "      <th>V22</th>\n",
       "      <th>V23</th>\n",
       "      <th>V24</th>\n",
       "      <th>V25</th>\n",
       "      <th>V26</th>\n",
       "      <th>V27</th>\n",
       "      <th>V28</th>\n",
       "      <th>Amount</th>\n",
       "      <th>Target</th>\n",
       "    </tr>\n",
       "  </thead>\n",
       "  <tbody>\n",
       "    <tr>\n",
       "      <th>0</th>\n",
       "      <td>0.114697</td>\n",
       "      <td>0.796303</td>\n",
       "      <td>-0.149553</td>\n",
       "      <td>-0.823011</td>\n",
       "      <td>0.878763</td>\n",
       "      <td>-0.553152</td>\n",
       "      <td>0.939259</td>\n",
       "      <td>-0.108502</td>\n",
       "      <td>0.111137</td>\n",
       "      <td>-0.390521</td>\n",
       "      <td>...</td>\n",
       "      <td>-0.335776</td>\n",
       "      <td>-0.807853</td>\n",
       "      <td>-0.055940</td>\n",
       "      <td>-1.025281</td>\n",
       "      <td>-0.369557</td>\n",
       "      <td>0.204653</td>\n",
       "      <td>0.242724</td>\n",
       "      <td>0.085713</td>\n",
       "      <td>0.89</td>\n",
       "      <td>0</td>\n",
       "    </tr>\n",
       "    <tr>\n",
       "      <th>1</th>\n",
       "      <td>-0.039318</td>\n",
       "      <td>0.495784</td>\n",
       "      <td>-0.810884</td>\n",
       "      <td>0.546693</td>\n",
       "      <td>1.986257</td>\n",
       "      <td>4.386342</td>\n",
       "      <td>-1.344891</td>\n",
       "      <td>-1.743736</td>\n",
       "      <td>-0.563103</td>\n",
       "      <td>-0.616315</td>\n",
       "      <td>...</td>\n",
       "      <td>-1.377003</td>\n",
       "      <td>-0.072200</td>\n",
       "      <td>-0.197573</td>\n",
       "      <td>1.014807</td>\n",
       "      <td>1.011293</td>\n",
       "      <td>-0.167684</td>\n",
       "      <td>0.113136</td>\n",
       "      <td>0.256836</td>\n",
       "      <td>85.00</td>\n",
       "      <td>0</td>\n",
       "    </tr>\n",
       "    <tr>\n",
       "      <th>2</th>\n",
       "      <td>2.275706</td>\n",
       "      <td>-1.531508</td>\n",
       "      <td>-1.021969</td>\n",
       "      <td>-1.602152</td>\n",
       "      <td>-1.220329</td>\n",
       "      <td>-0.462376</td>\n",
       "      <td>-1.196485</td>\n",
       "      <td>-0.147058</td>\n",
       "      <td>-0.950224</td>\n",
       "      <td>1.560463</td>\n",
       "      <td>...</td>\n",
       "      <td>-0.193271</td>\n",
       "      <td>-0.103533</td>\n",
       "      <td>0.150945</td>\n",
       "      <td>-0.811083</td>\n",
       "      <td>-0.197913</td>\n",
       "      <td>-0.128446</td>\n",
       "      <td>0.014197</td>\n",
       "      <td>-0.051289</td>\n",
       "      <td>42.70</td>\n",
       "      <td>0</td>\n",
       "    </tr>\n",
       "    <tr>\n",
       "      <th>3</th>\n",
       "      <td>1.940137</td>\n",
       "      <td>-0.357671</td>\n",
       "      <td>-1.210551</td>\n",
       "      <td>0.382523</td>\n",
       "      <td>0.050823</td>\n",
       "      <td>-0.171322</td>\n",
       "      <td>-0.109124</td>\n",
       "      <td>-0.002115</td>\n",
       "      <td>0.869258</td>\n",
       "      <td>-0.001965</td>\n",
       "      <td>...</td>\n",
       "      <td>0.157994</td>\n",
       "      <td>0.650355</td>\n",
       "      <td>0.034206</td>\n",
       "      <td>0.739535</td>\n",
       "      <td>0.223605</td>\n",
       "      <td>-0.195509</td>\n",
       "      <td>-0.012791</td>\n",
       "      <td>-0.056841</td>\n",
       "      <td>29.99</td>\n",
       "      <td>0</td>\n",
       "    </tr>\n",
       "    <tr>\n",
       "      <th>4</th>\n",
       "      <td>1.081395</td>\n",
       "      <td>-0.502615</td>\n",
       "      <td>1.075887</td>\n",
       "      <td>-0.543359</td>\n",
       "      <td>-1.472946</td>\n",
       "      <td>-1.065484</td>\n",
       "      <td>-0.443231</td>\n",
       "      <td>-0.143374</td>\n",
       "      <td>1.659826</td>\n",
       "      <td>-1.131238</td>\n",
       "      <td>...</td>\n",
       "      <td>0.224157</td>\n",
       "      <td>0.821209</td>\n",
       "      <td>-0.137223</td>\n",
       "      <td>0.986259</td>\n",
       "      <td>0.563228</td>\n",
       "      <td>-0.574206</td>\n",
       "      <td>0.089673</td>\n",
       "      <td>0.052036</td>\n",
       "      <td>68.00</td>\n",
       "      <td>0</td>\n",
       "    </tr>\n",
       "    <tr>\n",
       "      <th>...</th>\n",
       "      <td>...</td>\n",
       "      <td>...</td>\n",
       "      <td>...</td>\n",
       "      <td>...</td>\n",
       "      <td>...</td>\n",
       "      <td>...</td>\n",
       "      <td>...</td>\n",
       "      <td>...</td>\n",
       "      <td>...</td>\n",
       "      <td>...</td>\n",
       "      <td>...</td>\n",
       "      <td>...</td>\n",
       "      <td>...</td>\n",
       "      <td>...</td>\n",
       "      <td>...</td>\n",
       "      <td>...</td>\n",
       "      <td>...</td>\n",
       "      <td>...</td>\n",
       "      <td>...</td>\n",
       "      <td>...</td>\n",
       "      <td>...</td>\n",
       "    </tr>\n",
       "    <tr>\n",
       "      <th>56957</th>\n",
       "      <td>2.030797</td>\n",
       "      <td>-0.825073</td>\n",
       "      <td>-0.729555</td>\n",
       "      <td>-0.519187</td>\n",
       "      <td>-0.639893</td>\n",
       "      <td>-0.169482</td>\n",
       "      <td>-0.619049</td>\n",
       "      <td>-0.017902</td>\n",
       "      <td>-0.578643</td>\n",
       "      <td>0.915645</td>\n",
       "      <td>...</td>\n",
       "      <td>-0.790167</td>\n",
       "      <td>-1.825357</td>\n",
       "      <td>0.600083</td>\n",
       "      <td>0.702623</td>\n",
       "      <td>-0.782688</td>\n",
       "      <td>-0.007105</td>\n",
       "      <td>-0.041057</td>\n",
       "      <td>-0.038601</td>\n",
       "      <td>42.42</td>\n",
       "      <td>0</td>\n",
       "    </tr>\n",
       "    <tr>\n",
       "      <th>56958</th>\n",
       "      <td>-0.263947</td>\n",
       "      <td>1.119700</td>\n",
       "      <td>-0.639394</td>\n",
       "      <td>-0.880567</td>\n",
       "      <td>1.194120</td>\n",
       "      <td>-0.310693</td>\n",
       "      <td>0.962087</td>\n",
       "      <td>-0.088880</td>\n",
       "      <td>0.386664</td>\n",
       "      <td>0.195362</td>\n",
       "      <td>...</td>\n",
       "      <td>-0.448081</td>\n",
       "      <td>-0.893010</td>\n",
       "      <td>0.004678</td>\n",
       "      <td>0.062555</td>\n",
       "      <td>-0.347536</td>\n",
       "      <td>0.106510</td>\n",
       "      <td>0.274117</td>\n",
       "      <td>-0.036263</td>\n",
       "      <td>7.99</td>\n",
       "      <td>0</td>\n",
       "    </tr>\n",
       "    <tr>\n",
       "      <th>56959</th>\n",
       "      <td>2.206867</td>\n",
       "      <td>-0.748559</td>\n",
       "      <td>-1.443015</td>\n",
       "      <td>-1.101542</td>\n",
       "      <td>-0.332197</td>\n",
       "      <td>-0.646931</td>\n",
       "      <td>-0.536272</td>\n",
       "      <td>-0.129437</td>\n",
       "      <td>-0.712381</td>\n",
       "      <td>1.057616</td>\n",
       "      <td>...</td>\n",
       "      <td>0.471336</td>\n",
       "      <td>1.314052</td>\n",
       "      <td>0.038930</td>\n",
       "      <td>0.747315</td>\n",
       "      <td>0.158017</td>\n",
       "      <td>0.021897</td>\n",
       "      <td>-0.046200</td>\n",
       "      <td>-0.072586</td>\n",
       "      <td>1.00</td>\n",
       "      <td>0</td>\n",
       "    </tr>\n",
       "    <tr>\n",
       "      <th>56960</th>\n",
       "      <td>1.430579</td>\n",
       "      <td>-0.842354</td>\n",
       "      <td>0.415998</td>\n",
       "      <td>-1.328439</td>\n",
       "      <td>-1.284654</td>\n",
       "      <td>-0.888110</td>\n",
       "      <td>-0.653237</td>\n",
       "      <td>-0.238164</td>\n",
       "      <td>-2.220845</td>\n",
       "      <td>1.350845</td>\n",
       "      <td>...</td>\n",
       "      <td>-0.577415</td>\n",
       "      <td>-1.323989</td>\n",
       "      <td>0.336843</td>\n",
       "      <td>0.329714</td>\n",
       "      <td>-0.007425</td>\n",
       "      <td>-0.636401</td>\n",
       "      <td>0.037095</td>\n",
       "      <td>0.029180</td>\n",
       "      <td>30.00</td>\n",
       "      <td>0</td>\n",
       "    </tr>\n",
       "    <tr>\n",
       "      <th>56961</th>\n",
       "      <td>-7.792712</td>\n",
       "      <td>5.599937</td>\n",
       "      <td>0.258943</td>\n",
       "      <td>0.061360</td>\n",
       "      <td>-2.586555</td>\n",
       "      <td>4.770837</td>\n",
       "      <td>-8.221863</td>\n",
       "      <td>-20.298380</td>\n",
       "      <td>2.028566</td>\n",
       "      <td>-0.030694</td>\n",
       "      <td>...</td>\n",
       "      <td>12.641459</td>\n",
       "      <td>-4.187308</td>\n",
       "      <td>2.655058</td>\n",
       "      <td>0.350225</td>\n",
       "      <td>0.462620</td>\n",
       "      <td>0.455248</td>\n",
       "      <td>0.166157</td>\n",
       "      <td>0.099680</td>\n",
       "      <td>8.39</td>\n",
       "      <td>0</td>\n",
       "    </tr>\n",
       "  </tbody>\n",
       "</table>\n",
       "<p>56287 rows × 30 columns</p>\n",
       "</div>"
      ],
      "text/plain": [
       "             V1        V2        V3        V4        V5        V6        V7  \\\n",
       "0      0.114697  0.796303 -0.149553 -0.823011  0.878763 -0.553152  0.939259   \n",
       "1     -0.039318  0.495784 -0.810884  0.546693  1.986257  4.386342 -1.344891   \n",
       "2      2.275706 -1.531508 -1.021969 -1.602152 -1.220329 -0.462376 -1.196485   \n",
       "3      1.940137 -0.357671 -1.210551  0.382523  0.050823 -0.171322 -0.109124   \n",
       "4      1.081395 -0.502615  1.075887 -0.543359 -1.472946 -1.065484 -0.443231   \n",
       "...         ...       ...       ...       ...       ...       ...       ...   \n",
       "56957  2.030797 -0.825073 -0.729555 -0.519187 -0.639893 -0.169482 -0.619049   \n",
       "56958 -0.263947  1.119700 -0.639394 -0.880567  1.194120 -0.310693  0.962087   \n",
       "56959  2.206867 -0.748559 -1.443015 -1.101542 -0.332197 -0.646931 -0.536272   \n",
       "56960  1.430579 -0.842354  0.415998 -1.328439 -1.284654 -0.888110 -0.653237   \n",
       "56961 -7.792712  5.599937  0.258943  0.061360 -2.586555  4.770837 -8.221863   \n",
       "\n",
       "              V8        V9       V10  ...        V21       V22       V23  \\\n",
       "0      -0.108502  0.111137 -0.390521  ...  -0.335776 -0.807853 -0.055940   \n",
       "1      -1.743736 -0.563103 -0.616315  ...  -1.377003 -0.072200 -0.197573   \n",
       "2      -0.147058 -0.950224  1.560463  ...  -0.193271 -0.103533  0.150945   \n",
       "3      -0.002115  0.869258 -0.001965  ...   0.157994  0.650355  0.034206   \n",
       "4      -0.143374  1.659826 -1.131238  ...   0.224157  0.821209 -0.137223   \n",
       "...          ...       ...       ...  ...        ...       ...       ...   \n",
       "56957  -0.017902 -0.578643  0.915645  ...  -0.790167 -1.825357  0.600083   \n",
       "56958  -0.088880  0.386664  0.195362  ...  -0.448081 -0.893010  0.004678   \n",
       "56959  -0.129437 -0.712381  1.057616  ...   0.471336  1.314052  0.038930   \n",
       "56960  -0.238164 -2.220845  1.350845  ...  -0.577415 -1.323989  0.336843   \n",
       "56961 -20.298380  2.028566 -0.030694  ...  12.641459 -4.187308  2.655058   \n",
       "\n",
       "            V24       V25       V26       V27       V28  Amount  Target  \n",
       "0     -1.025281 -0.369557  0.204653  0.242724  0.085713    0.89       0  \n",
       "1      1.014807  1.011293 -0.167684  0.113136  0.256836   85.00       0  \n",
       "2     -0.811083 -0.197913 -0.128446  0.014197 -0.051289   42.70       0  \n",
       "3      0.739535  0.223605 -0.195509 -0.012791 -0.056841   29.99       0  \n",
       "4      0.986259  0.563228 -0.574206  0.089673  0.052036   68.00       0  \n",
       "...         ...       ...       ...       ...       ...     ...     ...  \n",
       "56957  0.702623 -0.782688 -0.007105 -0.041057 -0.038601   42.42       0  \n",
       "56958  0.062555 -0.347536  0.106510  0.274117 -0.036263    7.99       0  \n",
       "56959  0.747315  0.158017  0.021897 -0.046200 -0.072586    1.00       0  \n",
       "56960  0.329714 -0.007425 -0.636401  0.037095  0.029180   30.00       0  \n",
       "56961  0.350225  0.462620  0.455248  0.166157  0.099680    8.39       0  \n",
       "\n",
       "[56287 rows x 30 columns]"
      ]
     },
     "execution_count": 70,
     "metadata": {},
     "output_type": "execute_result"
    }
   ],
   "source": [
    "df"
   ]
  },
  {
   "cell_type": "code",
   "execution_count": 71,
   "metadata": {},
   "outputs": [],
   "source": [
    "fraud=df[df[\"Target\"]==1]\n",
    "Normal=df[df[\"Target\"]==0]"
   ]
  },
  {
   "cell_type": "code",
   "execution_count": 72,
   "metadata": {},
   "outputs": [
    {
     "data": {
      "text/plain": [
       "(98, 30)"
      ]
     },
     "execution_count": 72,
     "metadata": {},
     "output_type": "execute_result"
    }
   ],
   "source": [
    "fraud.shape"
   ]
  },
  {
   "cell_type": "code",
   "execution_count": 73,
   "metadata": {},
   "outputs": [
    {
     "data": {
      "text/plain": [
       "(56189, 30)"
      ]
     },
     "execution_count": 73,
     "metadata": {},
     "output_type": "execute_result"
    }
   ],
   "source": [
    "Normal.shape"
   ]
  },
  {
   "cell_type": "code",
   "execution_count": 74,
   "metadata": {},
   "outputs": [
    {
     "data": {
      "text/plain": [
       "count      98.000000\n",
       "mean      101.726531\n",
       "std       222.390907\n",
       "min         0.000000\n",
       "25%         1.000000\n",
       "50%         6.840000\n",
       "75%        99.990000\n",
       "max      1402.160000\n",
       "Name: Amount, dtype: float64"
      ]
     },
     "execution_count": 74,
     "metadata": {},
     "output_type": "execute_result"
    }
   ],
   "source": [
    "fraud.Amount.describe()"
   ]
  },
  {
   "cell_type": "code",
   "execution_count": 75,
   "metadata": {},
   "outputs": [
    {
     "data": {
      "text/plain": [
       "count    56189.000000\n",
       "mean        88.458862\n",
       "std        259.423529\n",
       "min          0.000000\n",
       "25%          5.990000\n",
       "50%         22.490000\n",
       "75%         78.500000\n",
       "max      25691.160000\n",
       "Name: Amount, dtype: float64"
      ]
     },
     "execution_count": 75,
     "metadata": {},
     "output_type": "execute_result"
    }
   ],
   "source": [
    "Normal.Amount.describe()"
   ]
  },
  {
   "cell_type": "code",
   "execution_count": 76,
   "metadata": {},
   "outputs": [],
   "source": [
    "x=df.drop(columns=[\"Target\"])\n",
    "y=df[\"Target\"]"
   ]
  },
  {
   "cell_type": "code",
   "execution_count": 77,
   "metadata": {},
   "outputs": [
    {
     "data": {
      "text/plain": [
       "(56287, 29)"
      ]
     },
     "execution_count": 77,
     "metadata": {},
     "output_type": "execute_result"
    }
   ],
   "source": [
    "x.shape"
   ]
  },
  {
   "cell_type": "code",
   "execution_count": 78,
   "metadata": {},
   "outputs": [
    {
     "data": {
      "text/plain": [
       "(56287,)"
      ]
     },
     "execution_count": 78,
     "metadata": {},
     "output_type": "execute_result"
    }
   ],
   "source": [
    "y.shape"
   ]
  },
  {
   "cell_type": "code",
   "execution_count": 79,
   "metadata": {},
   "outputs": [],
   "source": [
    "#### Dataset is imbalanced because the fraud transaction is very lowin proportion when compared to normal transcation"
   ]
  },
  {
   "cell_type": "code",
   "execution_count": 80,
   "metadata": {},
   "outputs": [],
   "source": [
    "from imblearn import under_sampling\n",
    "from imblearn.under_sampling import NearMiss"
   ]
  },
  {
   "cell_type": "code",
   "execution_count": 81,
   "metadata": {},
   "outputs": [],
   "source": [
    "Nm=NearMiss()\n",
    "x1,y1=Nm.fit_resample(x,y)"
   ]
  },
  {
   "cell_type": "code",
   "execution_count": 82,
   "metadata": {},
   "outputs": [
    {
     "data": {
      "text/plain": [
       "(196, 29)"
      ]
     },
     "execution_count": 82,
     "metadata": {},
     "output_type": "execute_result"
    }
   ],
   "source": [
    "x1.shape"
   ]
  },
  {
   "cell_type": "code",
   "execution_count": 83,
   "metadata": {},
   "outputs": [
    {
     "data": {
      "text/plain": [
       "(196,)"
      ]
     },
     "execution_count": 83,
     "metadata": {},
     "output_type": "execute_result"
    }
   ],
   "source": [
    "y1.shape"
   ]
  },
  {
   "cell_type": "code",
   "execution_count": 84,
   "metadata": {},
   "outputs": [],
   "source": [
    "from sklearn.model_selection import train_test_split\n",
    "x_train,x_test,y_train,y_test=train_test_split(x1,y1,random_state=1,test_size=0.5)"
   ]
  },
  {
   "cell_type": "code",
   "execution_count": 85,
   "metadata": {},
   "outputs": [
    {
     "name": "stdout",
     "output_type": "stream",
     "text": [
      "x_train: (98, 29)\n"
     ]
    }
   ],
   "source": [
    "print(\"x_train:\",x_train.shape)"
   ]
  },
  {
   "cell_type": "code",
   "execution_count": 86,
   "metadata": {},
   "outputs": [
    {
     "name": "stdout",
     "output_type": "stream",
     "text": [
      "x_test: (98, 29)\n"
     ]
    }
   ],
   "source": [
    "print(\"x_test:\",x_test.shape)"
   ]
  },
  {
   "cell_type": "code",
   "execution_count": 87,
   "metadata": {},
   "outputs": [
    {
     "name": "stdout",
     "output_type": "stream",
     "text": [
      "y_train: (98,)\n"
     ]
    }
   ],
   "source": [
    "print(\"y_train:\",y_train.shape)"
   ]
  },
  {
   "cell_type": "code",
   "execution_count": 88,
   "metadata": {},
   "outputs": [
    {
     "name": "stdout",
     "output_type": "stream",
     "text": [
      "y_test: (98,)\n"
     ]
    }
   ],
   "source": [
    "print(\"y_test:\",y_test.shape)"
   ]
  },
  {
   "cell_type": "code",
   "execution_count": 89,
   "metadata": {},
   "outputs": [],
   "source": [
    "from sklearn.linear_model import LogisticRegression"
   ]
  },
  {
   "cell_type": "code",
   "execution_count": 90,
   "metadata": {},
   "outputs": [
    {
     "data": {
      "text/html": [
       "<style>#sk-container-id-1 {color: black;background-color: white;}#sk-container-id-1 pre{padding: 0;}#sk-container-id-1 div.sk-toggleable {background-color: white;}#sk-container-id-1 label.sk-toggleable__label {cursor: pointer;display: block;width: 100%;margin-bottom: 0;padding: 0.3em;box-sizing: border-box;text-align: center;}#sk-container-id-1 label.sk-toggleable__label-arrow:before {content: \"▸\";float: left;margin-right: 0.25em;color: #696969;}#sk-container-id-1 label.sk-toggleable__label-arrow:hover:before {color: black;}#sk-container-id-1 div.sk-estimator:hover label.sk-toggleable__label-arrow:before {color: black;}#sk-container-id-1 div.sk-toggleable__content {max-height: 0;max-width: 0;overflow: hidden;text-align: left;background-color: #f0f8ff;}#sk-container-id-1 div.sk-toggleable__content pre {margin: 0.2em;color: black;border-radius: 0.25em;background-color: #f0f8ff;}#sk-container-id-1 input.sk-toggleable__control:checked~div.sk-toggleable__content {max-height: 200px;max-width: 100%;overflow: auto;}#sk-container-id-1 input.sk-toggleable__control:checked~label.sk-toggleable__label-arrow:before {content: \"▾\";}#sk-container-id-1 div.sk-estimator input.sk-toggleable__control:checked~label.sk-toggleable__label {background-color: #d4ebff;}#sk-container-id-1 div.sk-label input.sk-toggleable__control:checked~label.sk-toggleable__label {background-color: #d4ebff;}#sk-container-id-1 input.sk-hidden--visually {border: 0;clip: rect(1px 1px 1px 1px);clip: rect(1px, 1px, 1px, 1px);height: 1px;margin: -1px;overflow: hidden;padding: 0;position: absolute;width: 1px;}#sk-container-id-1 div.sk-estimator {font-family: monospace;background-color: #f0f8ff;border: 1px dotted black;border-radius: 0.25em;box-sizing: border-box;margin-bottom: 0.5em;}#sk-container-id-1 div.sk-estimator:hover {background-color: #d4ebff;}#sk-container-id-1 div.sk-parallel-item::after {content: \"\";width: 100%;border-bottom: 1px solid gray;flex-grow: 1;}#sk-container-id-1 div.sk-label:hover label.sk-toggleable__label {background-color: #d4ebff;}#sk-container-id-1 div.sk-serial::before {content: \"\";position: absolute;border-left: 1px solid gray;box-sizing: border-box;top: 0;bottom: 0;left: 50%;z-index: 0;}#sk-container-id-1 div.sk-serial {display: flex;flex-direction: column;align-items: center;background-color: white;padding-right: 0.2em;padding-left: 0.2em;position: relative;}#sk-container-id-1 div.sk-item {position: relative;z-index: 1;}#sk-container-id-1 div.sk-parallel {display: flex;align-items: stretch;justify-content: center;background-color: white;position: relative;}#sk-container-id-1 div.sk-item::before, #sk-container-id-1 div.sk-parallel-item::before {content: \"\";position: absolute;border-left: 1px solid gray;box-sizing: border-box;top: 0;bottom: 0;left: 50%;z-index: -1;}#sk-container-id-1 div.sk-parallel-item {display: flex;flex-direction: column;z-index: 1;position: relative;background-color: white;}#sk-container-id-1 div.sk-parallel-item:first-child::after {align-self: flex-end;width: 50%;}#sk-container-id-1 div.sk-parallel-item:last-child::after {align-self: flex-start;width: 50%;}#sk-container-id-1 div.sk-parallel-item:only-child::after {width: 0;}#sk-container-id-1 div.sk-dashed-wrapped {border: 1px dashed gray;margin: 0 0.4em 0.5em 0.4em;box-sizing: border-box;padding-bottom: 0.4em;background-color: white;}#sk-container-id-1 div.sk-label label {font-family: monospace;font-weight: bold;display: inline-block;line-height: 1.2em;}#sk-container-id-1 div.sk-label-container {text-align: center;}#sk-container-id-1 div.sk-container {/* jupyter's `normalize.less` sets `[hidden] { display: none; }` but bootstrap.min.css set `[hidden] { display: none !important; }` so we also need the `!important` here to be able to override the default hidden behavior on the sphinx rendered scikit-learn.org. See: https://github.com/scikit-learn/scikit-learn/issues/21755 */display: inline-block !important;position: relative;}#sk-container-id-1 div.sk-text-repr-fallback {display: none;}</style><div id=\"sk-container-id-1\" class=\"sk-top-container\"><div class=\"sk-text-repr-fallback\"><pre>LogisticRegression()</pre><b>In a Jupyter environment, please rerun this cell to show the HTML representation or trust the notebook. <br />On GitHub, the HTML representation is unable to render, please try loading this page with nbviewer.org.</b></div><div class=\"sk-container\" hidden><div class=\"sk-item\"><div class=\"sk-estimator sk-toggleable\"><input class=\"sk-toggleable__control sk-hidden--visually\" id=\"sk-estimator-id-1\" type=\"checkbox\" checked><label for=\"sk-estimator-id-1\" class=\"sk-toggleable__label sk-toggleable__label-arrow\">LogisticRegression</label><div class=\"sk-toggleable__content\"><pre>LogisticRegression()</pre></div></div></div></div></div>"
      ],
      "text/plain": [
       "LogisticRegression()"
      ]
     },
     "execution_count": 90,
     "metadata": {},
     "output_type": "execute_result"
    }
   ],
   "source": [
    "model=LogisticRegression()\n",
    "model.fit(x_train,y_train)"
   ]
  },
  {
   "cell_type": "code",
   "execution_count": 91,
   "metadata": {},
   "outputs": [],
   "source": [
    "y_predict=model.predict(x_test)"
   ]
  },
  {
   "cell_type": "code",
   "execution_count": 92,
   "metadata": {},
   "outputs": [
    {
     "data": {
      "text/plain": [
       "array([0, 0, 1, 0, 0, 0, 0, 0, 1, 1, 0, 0, 1, 0, 0, 1, 0, 1, 1, 1, 0, 1,\n",
       "       0, 1, 1, 1, 0, 0, 1, 0, 1, 1, 1, 0, 1, 0, 1, 0, 1, 1, 0, 0, 0, 0,\n",
       "       0, 0, 0, 1, 0, 0, 0, 0, 1, 1, 1, 1, 1, 1, 1, 0, 0, 0, 0, 1, 0, 0,\n",
       "       0, 1, 1, 0, 1, 1, 0, 1, 1, 1, 0, 0, 1, 1, 0, 0, 1, 0, 0, 0, 0, 0,\n",
       "       1, 0, 0, 1, 1, 1, 0, 0, 0, 1], dtype=int64)"
      ]
     },
     "execution_count": 92,
     "metadata": {},
     "output_type": "execute_result"
    }
   ],
   "source": [
    "y_predict"
   ]
  },
  {
   "cell_type": "code",
   "execution_count": 93,
   "metadata": {},
   "outputs": [
    {
     "data": {
      "text/plain": [
       "0.9285714285714286"
      ]
     },
     "execution_count": 93,
     "metadata": {},
     "output_type": "execute_result"
    }
   ],
   "source": [
    "from sklearn.metrics import accuracy_score\n",
    "acc=accuracy_score(y_test,y_predict)\n",
    "acc\n",
    "# model.score((y_test,y_predict))"
   ]
  },
  {
   "cell_type": "code",
   "execution_count": 94,
   "metadata": {},
   "outputs": [],
   "source": [
    "import matplotlib.pyplot as plt\n",
    "import seaborn as sns"
   ]
  },
  {
   "cell_type": "code",
   "execution_count": null,
   "metadata": {},
   "outputs": [],
   "source": []
  },
  {
   "cell_type": "code",
   "execution_count": 95,
   "metadata": {},
   "outputs": [],
   "source": [
    "# from sklearn.metrics import plot_confusion_matrix\n",
    "# plot_confusion_matrix(model, x_test, y_test) \n",
    "# plt.show()"
   ]
  }
 ],
 "metadata": {
  "kernelspec": {
   "display_name": "Python 3.10.6 64-bit",
   "language": "python",
   "name": "python3"
  },
  "language_info": {
   "codemirror_mode": {
    "name": "ipython",
    "version": 3
   },
   "file_extension": ".py",
   "mimetype": "text/x-python",
   "name": "python",
   "nbconvert_exporter": "python",
   "pygments_lexer": "ipython3",
   "version": "3.10.6"
  },
  "orig_nbformat": 4,
  "vscode": {
   "interpreter": {
    "hash": "c7af7df4901773a0e355da496bf365ae011b1b331a57bbc9908dae1ee21823d7"
   }
  }
 },
 "nbformat": 4,
 "nbformat_minor": 2
}
